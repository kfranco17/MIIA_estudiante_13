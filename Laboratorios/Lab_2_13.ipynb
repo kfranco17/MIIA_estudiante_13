{
 "cells": [
  {
   "cell_type": "markdown",
   "metadata": {},
   "source": [
    "<img src=\"Archivos/miia.jpg\" width=800x>\n",
    "\n",
    "# Laboratorio 2\n",
    "\n",
    "## Hito: desarrollo de una herramienta analítica usando paquetes especializados para análisis de datos en Python\n",
    "\n",
    "Este laboratorio corresponde al 34% de la calificación total del curso y su entrega está planteada para el final de la semana 8. Su objetivo es poner en práctica las competencias adquiridas sobre el uso de los paquetes Pandas, Seaborn y Scikit Learn, entre otros, para hacer exploración, análisis descriptivo, y abordar preguntas de negocio para un caso basado en datos reales. \n",
    "\n",
    "Especificamente, al desarrollar este laboratorio pondrás a prueba tus habilidades para:\n",
    "\n",
    "1. Identificar y abordar una pregunta de negocio a partir de un contexto dado.\n",
    "2. Cargar datos desde archivos utilizando métodos de Pandas.\n",
    "3. Explorar, manejar, limpiar y agregar DataFrames.\n",
    "5. Implementar análisis combinando métricas descriptivas, visualización, filtrado y agrupación.\n",
    "6. Implementar análisis basado en modelos estadísticos o de machine learning.\n",
    "7. Utilizar paquetes como ipywidgets o panel para agregar interactividad a los análisis de manera sencilla.\n",
    "\n",
    "Te recomendamos leer por completo el enunciado del laboratorio antes de comenzar, de forma que tengas claro el propósito completo de la actividad, y puedas desarrollar tu solución apuntando a él en cada paso."
   ]
  },
  {
   "cell_type": "markdown",
   "metadata": {},
   "source": [
    "##  Contexto: *Desigualdad y factores de éxito en Pruebas \"Saber 11\" (Colombia)*\n",
    "\n",
    "El ICFES es el Instituto Colombiano para el Fomento de la Educación Superior y está adscrito al Ministerio de Educación a nivel nacional. Como parte de sus funciones, el ICFES administra las pruebas *Saber 11*, las cuales evalúan a todos los estudiantes del país al final de su educación secundaria. El examen contiene preguntas que evalúan una variedad de áreas del conocimiento (p.ej., matemáticas, ciencias naturales), y se lleva a cabo dos veces al año, respondiendo a los diferentes calendarios académicos que siguen las instituciones educativas. Al momento de inscribirse a las pruebas, los estudiantes deben llenar un formulario que recoge información socio-demográfica y relacionada con la institución a la que pertenecen, con el fin de obtener evidencia respecto al desempeño de los estudiantes en la prueba según sus condiciones particulares.\n",
    "\n",
    "<img src=\"Archivos/saberpro.png\" width=700x>\n",
    "\n",
    "Al igual que otros países de la región, Colombia tiene grandes retos en términos de desigualdad, particularmente en el contexto de educación primaria y secundaria. Por esta razón, para el Estado colombiano es muy valioso el amplio registro de datos que el ICFES genera alrededor de las Pruebas Saber 11, pues con ellos se pueden generar análisis sobre la calidad de la educación en el país y eventualmente dar lugar a recomendaciones sobre políticas públicas. En particular, la problemática a abordar en este caso de estudio es *desigualdad y factores de éxito en las pruebas Saber 11*. \n",
    "\n",
    "Los objetivos de este caso de estudio son:\n",
    "\n",
    "* Entender el contenido de los archivos de datos proporcionados sobre las pruebas Saber11, generar un reporte acerca de sus características principales, e identificar qué partes de dicho contenido serán relevantes para el análisis.\n",
    "* Identificar características de las variables de interés y relaciones entre ellas, por ejemplo, a través de agrupación, visualizaciones, y descriptivos en general.\n",
    "* Abordar preguntas de negocio relacionadas con la problemática planteada, particularmente con respecto a los factores que puedan incidir significativamente en el puntaje de una persona que presenta la prueba; especialmente aquellos que se relacionen con mal desempeño.\n",
    "* Generar una herramienta sencilla que permita a un usuario interactuar con alguno de los análisis realizados de forma relevante en el contexto del problema."
   ]
  },
  {
   "cell_type": "markdown",
   "metadata": {},
   "source": [
    "# 1. Entender el contenido de los archivos de datos\n",
    "\n",
    "Esta misión consiste en hacerse una idea general del contenido de los datos y seleccionar un segmento de ellos que tenga potencial para los análisis propuestos.\n",
    "\n",
    "Pautas generales:\n",
    "* Leer los archivos de datos y agregarlos según sea necesario.\n",
    "* Inspeccionar el archivo a partir de su encabezado, columnas, descripciones de las variables según su tipo (numéricas, categóricas).\n",
    "* Definir un sub-conjunto de variables (e.g., una lista) que puedan ser relevantes para la problemática de interés.\n",
    "\n",
    "Preguntas guía:\n",
    "* ¿Qué dimensiones tienen los datos?\n",
    "* ¿Con cuántos años y periodos de evaluación se cuenta?\n",
    "* ¿Cuáles variables pueden ser de interés para la problemática planteada?\n",
    "* ¿Qué porcentaje de datos faltantes o no válidos hay en las columnas de interés? ¿Podría eso afectar el análisis, y cómo abordarlo?\n",
    "\n",
    "Esta misión corresponde a trabajo interno del analista, por lo cual no tiene un entregable para el cliente. Como entregable, puedes generar un reporte básico sobre el contenido de los archivos de datos, ya sea a través de la impresión de mensajes, la presentación de tablas resumen, u otros."
   ]
  },
  {
   "cell_type": "code",
   "execution_count": 1,
   "metadata": {},
   "outputs": [],
   "source": [
    "# librerias a implementar\n",
    "import pandas as pd\n",
    "import numpy as np\n",
    "import matplotlib.pyplot as plt\n",
    "import seaborn as sns"
   ]
  },
  {
   "cell_type": "markdown",
   "metadata": {},
   "source": [
    "# 1. Seleccion, revisión y consolidación de base de datos\n",
    "\n",
    "Para el desarrollo de esta misison se seleccionaron las bases de datos para los resultados obtenido en la prueba llevabada a cabo en los periodos 1 y 2 en el año 2018."
   ]
  },
  {
   "cell_type": "code",
   "execution_count": 2,
   "metadata": {},
   "outputs": [],
   "source": [
    "#Bases datos saber 2018 1 y 2\n",
    "\n",
    "saber_2018_1_total = pd.read_csv('Archivos/SB11_20181.txt',sep='¬')\n",
    "saber_2018_2_total = pd.read_csv('Archivos/SB11_20182.txt',sep='¬')"
   ]
  },
  {
   "cell_type": "code",
   "execution_count": 3,
   "metadata": {},
   "outputs": [],
   "source": [
    "#Inpeccion básica de los datos para pruebas saber 2018 periodo 1\n",
    "saber_2018_1.head()"
   ]
  },
  {
   "cell_type": "code",
   "execution_count": 4,
   "metadata": {},
   "outputs": [],
   "source": [
    "print(\"dimensiones datos filas y columnas:\", saber_2018_1.shape)\n",
    "print(\"\\nTipo de los datos:\") \n",
    "print(saber_2018_1.dtypes)\n",
    "print(\"\\nDatos faltantes:\")\n",
    "saber_2018_1.isnull().sum()"
   ]
  },
  {
   "cell_type": "code",
   "execution_count": 5,
   "metadata": {},
   "outputs": [],
   "source": [
    "#Inpeccion basica de los datos para pruebas saber 2018 periodo 2\n",
    "saber_2018_2.head()"
   ]
  },
  {
   "cell_type": "code",
   "execution_count": 6,
   "metadata": {},
   "outputs": [],
   "source": [
    "print(\"dimensiones datos filas y columnas:\", saber_2018_2.shape)\n",
    "print(\"\\nTipo de los datos:\") \n",
    "print(saber_2018_2.dtypes)\n",
    "print(\"\\nDatos faltantes:\")\n",
    "saber_2018_2.isnull().sum()"
   ]
  },
  {
   "cell_type": "markdown",
   "metadata": {},
   "source": [
    "# 1.1 Revisión preliminar de las base de datos\n",
    "## Resumen\n",
    "La base de datos para el periodo 1 cuenta con 82 columnas, 12527 filas, presenta variables discretas y categoricas, y ademas presenta valores faltantes; en el caso de la base de datos para el periodo 2 tenemos 549934 filas, 83 columnas, ademas de igual manera presenta valores faltantes, como en el primer caso.\n"
   ]
  },
  {
   "cell_type": "markdown",
   "metadata": {},
   "source": [
    "# 1.2 Limpieza y consolidación de base de datos de trabajo\n",
    "\n",
    "A continuacion se realizará el filtro de las columnas que serán objeto de estudio teniendo en cuenta información relevante para una revisión de las condiciones socio-demagraficas de los estudiantes y con las cuales se podria llegar a explicar los resultados globales obtenidos en las pruebas, información como por ejemplo los codigos del DANE para municipios y colegios no sera considerada; ademas se retirarán los puntajes en las diferentes áreas de la base de datos final dado que un puntaje alto en las materias implica necesariamente un puntaje alto global por lo que no es considerado en este planteamineto. En el caso de la etnia se retiran los datos debido a que no se tiene información relevante y cuenta con datos faltantes. La revision se realizó de forma visual a partir del contenido de las variables.\n",
    "\n",
    "Por otra parte, debido a que las bases de datos presentan datos faltantes se realizará la imputación teniendo en cuenta que si el valor es númerico se tomará el promedio general de dicha columna y en caso de que la variable sea categorica se implementara la moda. "
   ]
  },
  {
   "cell_type": "code",
   "execution_count": 7,
   "metadata": {},
   "outputs": [],
   "source": [
    "def limpieza_base(df):\n",
    "    df1 = df[['ESTU_GENERO', 'PERIODO', 'ESTU_CONSECUTIVO','ESTU_DEPTO_RESIDE',\n",
    "              'ESTU_MCPIO_RESIDE', 'FAMI_ESTRATOVIVIENDA', 'FAMI_EDUCACIONPADRE', 'FAMI_EDUCACIONMADRE',\n",
    "              'FAMI_TRABAJOLABORPADRE', 'FAMI_TRABAJOLABORMADRE', 'FAMI_TIENEINTERNET', 'FAMI_NUMLIBROS', \n",
    "              'FAMI_COMELECHEDERIVADOS', 'FAMI_COMECARNEPESCADOHUEVO', 'FAMI_COMECEREALFRUTOSLEGUMBRE',\n",
    "              'FAMI_SITUACIONECONOMICA', 'ESTU_DEDICACIONLECTURADIARIA','ESTU_DEDICACIONINTERNET', \n",
    "              'COLE_CALENDARIO', 'COLE_CARACTER', 'PUNT_GLOBAL', 'PERCENTIL_GLOBAL']]\n",
    "    from pandas.api.types import is_numeric_dtype\n",
    "    df2 = df1.apply(lambda x: x.fillna(x.mean()) if is_numeric_dtype(x) else x)\n",
    "    df3 = df2.apply(lambda x:x.fillna(x.value_counts().index[0]))\n",
    "    missing_values_count = df3.isnull().sum()\n",
    "    missing_values_count[0:26]\n",
    "    return df3"
   ]
  },
  {
   "cell_type": "code",
   "execution_count": 8,
   "metadata": {},
   "outputs": [],
   "source": [
    "#aplica funcion para realizar limpieza a las bases de datos de ambos periodos\n",
    "saber_2018_1_limp = limpieza_base(saber_2018_1)\n",
    "saber_2018_1_limp.head()"
   ]
  },
  {
   "cell_type": "code",
   "execution_count": 9,
   "metadata": {},
   "outputs": [],
   "source": [
    "saber_2018_2_limp = limpieza_base(saber_2018_2)\n",
    "saber_2018_2_limp.head()"
   ]
  },
  {
   "cell_type": "code",
   "execution_count": 10,
   "metadata": {},
   "outputs": [],
   "source": [
    "#unimos la base de datos \n",
    "#base_datos = pd.concat([saber_2018_1_limp,saber_2018_2_limp])\n",
    "#base_datos.head()"
   ]
  },
  {
   "cell_type": "code",
   "execution_count": 11,
   "metadata": {},
   "outputs": [],
   "source": [
    "#Revision de caracteristicas de base de datos final\n",
    "print(\"dimensiones datos filas y columnas:\", base_datos.shape)\n",
    "print(\"\\nTipo de los datos:\") \n",
    "print(base_datos.dtypes)\n",
    "print(\"\\nDatos faltantes:\")\n",
    "print(base_datos.isnull().sum())\n",
    "print(len(base_datos['ESTU_CONSECUTIVO'].unique()))"
   ]
  },
  {
   "cell_type": "markdown",
   "metadata": {},
   "source": [
    "# 1.3 Base de datos final para ánalisis\n",
    "\n",
    "La base de datos final obtenida despues de realizar la depuración cuenta con 22 columnas y 562461 columnas, se realizo la revisión de los faltantes y datos duplicados dando como reultado un base de datos limpia."
   ]
  },
  {
   "cell_type": "markdown",
   "metadata": {},
   "source": [
    "# 2. Identificar características y relaciones en las variables\n",
    "\n",
    "Esta misión consiste en utilizar análisis descriptivos para explorar patrones o relaciones en las variables de interés para la problemática planteada.\n",
    "\n",
    "Pautas generales:\n",
    "* Utilizar Matplotlib y/o Seaborn para inspeccionar visualmente variables de interés; los métodos `distplot`, `pairplot`, `boxplot`, o `violinplot`, entre otros, pueden ser de utilidad.\n",
    "* Utilizar el método `groupby` de Pandas, en conjunto con la visualización, para proveer evidencia sobre el impacto de variables socio-demográficas de interés sobre el desempeño de los estudiantes en la prueba.\n",
    "\n",
    "Preguntas guía:\n",
    "* ¿Hay patrones de interés en las distribuciones de las variables, o en las relaciones entre ellas?\n",
    "* ¿Existe algún impacto significativo de variables socio-demográficas en los puntajes globales o por área?\n",
    "* ¿Sobre cuáles variables vale la pena hacer un análisis más profundo?\n",
    "\n",
    "El entregable de esta misión es un reporte (p.ej., un conjunto de visualizaciones) que de cuenta de los comportamientos más interesantes que se observen en las variables de interés para el contexto propuesto. El propósito de esta exploración es generar hipótesis o preguntas que guíen análisis más profundos. En ese sentido, con base en lo aprendido en esta sección, identifique las tres preguntas analíticas que plantearía con mayor prioridad, teniendo en cuenta el contexto y los datos disponibles; estas preguntas NO se deben abordar en términos de código para el laboratorio (únicamente formularse)."
   ]
  },
  {
   "cell_type": "markdown",
   "metadata": {},
   "source": [
    "# 2.1 Revision grafica de base de datos\n",
    "\n",
    "A continuacion se mostraran los todos los graficos realizados en funcion de la variable puntaje global  con el fin de establecer cuales de estas haran parte del modelo a desarrollar. Los graficos usados seran boxplot, violin y barras, de tal manera que se pueda observar las cantidades y el efecto sobre la variable de interes."
   ]
  },
  {
   "cell_type": "markdown",
   "metadata": {},
   "source": [
    "## 2.1.1 Grafica del histograma de los resultados obtenidos en la prueba"
   ]
  },
  {
   "cell_type": "code",
   "execution_count": 12,
   "metadata": {},
   "outputs": [],
   "source": [
    "import plotly.express as px \n",
    "fig = px.histogram(base_datos, x='PUNT_GLOBAL', marginal = 'box', title='Histograma puntaje global pruebas saber 2018') \n",
    "fig.show()\n",
    "px.box(base_datos,y='PUNT_GLOBAL', title='Puntaje global pruebas saber 2018')"
   ]
  },
  {
   "cell_type": "markdown",
   "metadata": {},
   "source": [
    "## 2.1.2 Graficas de los parametros con mayor volumen de datos de los obtenidos en la prueba\n",
    "\n",
    "Para esta parte se organizaron los resultados de mayor a menor y solo se reportan los primeros 12, tanto para el caso de departamento como en el de municipio."
   ]
  },
  {
   "cell_type": "code",
   "execution_count": 13,
   "metadata": {},
   "outputs": [],
   "source": [
    "#Definimos funcion\n",
    "def graficasbarra_mayoramenor_datos(variable):\n",
    "    data1 = base_datos[[variable,\"ESTU_CONSECUTIVO\"]].groupby([variable]).count()\n",
    "    data2 = data1.sort_values(\"ESTU_CONSECUTIVO\",ascending=False)\n",
    "    data3 = data2[:12]\n",
    "    plt.figure(figsize = (12,7))\n",
    "    sns.barplot(x = \"ESTU_CONSECUTIVO\", y = data3.index, data = data3)\n",
    "    plt.title('Total personas:'+str(variable) )\n",
    "    plt.xlabel('Cantidad de personas')\n",
    "    plt.ylabel(str(variable))\n",
    "    plt.show()\n",
    "    return\n",
    "\n",
    "#Realizamos graficas\n",
    "graficasbarra_mayoramenor_datos(\"ESTU_DEPTO_RESIDE\")\n",
    "graficasbarra_mayoramenor_datos('ESTU_MCPIO_RESIDE')"
   ]
  },
  {
   "cell_type": "code",
   "execution_count": 14,
   "metadata": {},
   "outputs": [],
   "source": [
    "#Realizacion de graficas de violin por departamento.\n",
    "data1_1 = base_datos[[\"ESTU_DEPTO_RESIDE\",\"ESTU_CONSECUTIVO\"]].groupby([\"ESTU_DEPTO_RESIDE\"]).count()\n",
    "data2_1 = data1_1.sort_values(\"ESTU_CONSECUTIVO\",ascending=False)\n",
    "data3_1 = data2_1[:12]\n",
    "data4_1 = list(data3_1.index)\n",
    "data = base_datos[base_datos.ESTU_DEPTO_RESIDE.isin(data4_1)]\n",
    "\n",
    "plt.figure(figsize = (14,6))\n",
    "ax = sns.violinplot(x=\"ESTU_DEPTO_RESIDE\", y= \"PUNT_GLOBAL\", data=data, palette=\"Set1\")\n",
    "plt.title(\"Puntaje global por departamento\")\n",
    "plt.xlabel(\"Departamentos\")\n",
    "plt.ylabel(\"Puntaje\")\n",
    "\n",
    "plt.show()"
   ]
  },
  {
   "cell_type": "code",
   "execution_count": 15,
   "metadata": {},
   "outputs": [],
   "source": [
    "#Definimos funcion para elaboracion de graficas boxplot y barras para las otras variables\n",
    "def graficas(variable):\n",
    "    if variable=='PERIODO':\n",
    "        plt.figure(figsize = (12,7))\n",
    "        ax = sns.boxplot(x=variable, y=\"PUNT_GLOBAL\", data=base_datos)\n",
    "        plt.title(\"Puntaje global  \" + str(variable) )\n",
    "        plt.ylabel(\"Parametro: \" + str(variable))\n",
    "        plt.xlabel(\"Puntaje global\")\n",
    "        plt.show();\n",
    "    else: \n",
    "        plt.figure(figsize = (12,7))\n",
    "        ax = sns.boxplot(x=\"PUNT_GLOBAL\", y= variable, data=base_datos)\n",
    "        plt.title(\"Puntaje global  \" + str(variable) )\n",
    "        plt.ylabel(\"Parametro: \" + str(variable))\n",
    "        plt.xlabel(\"Puntaje global\")\n",
    "        plt.show();\n",
    "\n",
    "    data3 = base_datos[[variable]].groupby(base_datos[variable]).count()\n",
    "    plt.figure(figsize = (12,7))\n",
    "    sns.barplot(x = variable, y = data3.index, data = data3)\n",
    "    plt.xlabel(\"Frecuencia\") \n",
    "    plt.ylabel(\"Parametro: \" + str(variable))\n",
    "    plt.title(\"Total personas\")\n",
    "    plt.show();\n",
    "        \n",
    "    data = base_datos[[variable]].groupby(base_datos[variable]).count()\n",
    "    return print(data)"
   ]
  },
  {
   "cell_type": "code",
   "execution_count": 18,
   "metadata": {},
   "outputs": [],
   "source": [
    "#Ejecucion de codigo para elaboracion de graficas\n",
    "parametros = ['ESTU_GENERO', 'PERIODO', 'FAMI_ESTRATOVIVIENDA','FAMI_TRABAJOLABORMADRE', 'FAMI_EDUCACIONPADRE','FAMI_EDUCACIONMADRE',\n",
    "'FAMI_TRABAJOLABORPADRE','FAMI_TIENEINTERNET', 'FAMI_NUMLIBROS', 'FAMI_COMELECHEDERIVADOS', 'FAMI_COMECARNEPESCADOHUEVO', \n",
    "'FAMI_COMECEREALFRUTOSLEGUMBRE','FAMI_SITUACIONECONOMICA', 'ESTU_DEDICACIONLECTURADIARIA','ESTU_DEDICACIONINTERNET', 'COLE_CALENDARIO', \n",
    "'COLE_CARACTER']\n",
    "for i in parametros:\n",
    "    graficas(i)"
   ]
  },
  {
   "cell_type": "markdown",
   "metadata": {},
   "source": [
    "# 3. Abordar preguntas de negocio planteadas\n",
    "\n",
    "Esta misión consiste en proponer, implementar y evaluar el desempeño modelo(s) que busque(n) explicar las relaciones entre factores socio-demográficos y desempeño en la prueba.\n",
    "\n",
    "Pautas generales:\n",
    "* Seleccionar variables y proponer modelos acordes a dichas variables y al contexto del problema.\n",
    "* Utilizar los paquetes StatsModels y Scikit Learn para indagar sobre los aspectos que contribuyen al éxito de los estudiantes. Particularmente, las clases correspondientes a regresión lineal y regresión logística, entre otras, pueden ser útiles.\n",
    "* Utilizar las métricas de evaluación de desempeño (disponibles en los paquetes mencionados), para concluir sobre la validez de los modelos propuestos.\n",
    "\n",
    "Preguntas guía:\n",
    "* ¿Existe algún sub-conjunto de variables socio-demográficas que explique razonablemente bien el desempeño de los estudiantes en la prueba?\n",
    "* Definiendo como \"estudiante en riesgo\" a quien tenga un puntaje por debajo del percentil $\\alpha$ en más de la mitad de las áreas de la prueba, ¿cuáles variables socio-demográficas permitirían \"predecir\" si un estudiante pertenecerá a dicho grupo?\n",
    "\n",
    "El entregable de esta misión es un reporte sobre el desempeño de los modelos propuestos para abordar al menos una de las preguntas guía planteadas, acompañado de una conclusión sobre los resultados del modelo (si son válidos) en el contexto de la problemática planteada."
   ]
  },
  {
   "cell_type": "code",
   "execution_count": 23,
   "metadata": {
    "tags": []
   },
   "outputs": [],
   "source": [
    "# Código\n"
   ]
  },
  {
   "cell_type": "markdown",
   "metadata": {},
   "source": [
    "# 4. Desarrollar una herramienta interactiva de análisis\n",
    "\n",
    "Esta misión consiste en desarrollar una herramienta interactiva sencilla (que sea relevante en el contexto del problema) a partir de alguno de los análisis realizados en las secciones 2 o 3.\n",
    "\n",
    "Pautas generales:\n",
    "* Seleccionar uno de los análisis previos que pueda verse enriquecido con alguna característica de interactividad.\n",
    "* Seleccionar los parámetros que el usuario podrá cambiar.\n",
    "* Desarrollar las funciones que se deben ejecutar con cada acción del usuario.\n",
    "* Utilizar los paquetes `ipywidgets` o `panel` para implementar la herramienta.\n",
    "\n",
    "Pregunta guía:\n",
    "* ¿Cuál(es) es la pregunta que el usuario podrá hacerle a la herramienta, y cómo aporta al análisis?\n",
    "* ¿Qué aprendizajes clave puede explorar u obtener el usuario con esta herramienta basada en los datos?\n",
    "\n",
    "El entregable de esta misión es la herramienta implementada, acompañada de las instrucciones necesarias para que un usuario la pueda utilizar."
   ]
  },
  {
   "cell_type": "code",
   "execution_count": null,
   "metadata": {},
   "outputs": [],
   "source": [
    "# Código"
   ]
  }
 ],
 "metadata": {
  "kernelspec": {
   "display_name": "Python 3",
   "language": "python",
   "name": "python3"
  },
  "language_info": {
   "codemirror_mode": {
    "name": "ipython",
    "version": 3
   },
   "file_extension": ".py",
   "mimetype": "text/x-python",
   "name": "python",
   "nbconvert_exporter": "python",
   "pygments_lexer": "ipython3",
   "version": "3.8.8"
  }
 },
 "nbformat": 4,
 "nbformat_minor": 4
}
